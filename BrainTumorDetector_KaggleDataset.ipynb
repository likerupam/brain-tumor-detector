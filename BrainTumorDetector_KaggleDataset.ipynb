{
  "nbformat": 4,
  "nbformat_minor": 0,
  "metadata": {
    "colab": {
      "provenance": []
    },
    "kernelspec": {
      "name": "python3",
      "display_name": "Python 3"
    },
    "language_info": {
      "name": "python"
    }
  },
  "cells": [
    {
      "cell_type": "markdown",
      "source": [
        "# 1. Required libraries"
      ],
      "metadata": {
        "id": "_3j4whVcEvHZ"
      }
    },
    {
      "cell_type": "code",
      "execution_count": 13,
      "metadata": {
        "id": "GFykQLCKfka3"
      },
      "outputs": [],
      "source": [
        "import tensorflow as tf\n",
        "import numpy as np\n",
        "from tensorflow.keras.preprocessing.image import ImageDataGenerator\n",
        "import matplotlib.pyplot as plt\n",
        "from sklearn.metrics import classification_report, confusion_matrix\n",
        "import seaborn as sns"
      ]
    },
    {
      "cell_type": "markdown",
      "source": [
        "# 2. Data Acquisition"
      ],
      "metadata": {
        "id": "Zu7RD4ZzFBqw"
      }
    },
    {
      "cell_type": "code",
      "source": [
        "# Install kaggle\n",
        "!pip install kaggle\n",
        "\n",
        "# Upload kaggle.json\n",
        "from google.colab import files\n",
        "files.upload()\n",
        "\n",
        "# Make directory for Kaggle\n",
        "!mkdir ~/.kaggle\n",
        "!mv kaggle.json ~/.kaggle/\n",
        "!chmod 600 ~/.kaggle/kaggle.json\n",
        "\n",
        "# Download Brain MRI dataset\n",
        "!kaggle datasets download -d navoneel/brain-mri-images-for-brain-tumor-detection"
      ],
      "metadata": {
        "colab": {
          "base_uri": "https://localhost:8080/",
          "height": 440
        },
        "collapsed": true,
        "id": "7BeP2TZ4p7LB",
        "outputId": "083fbd38-78b3-49d1-d667-ea9966dde115"
      },
      "execution_count": 3,
      "outputs": [
        {
          "output_type": "stream",
          "name": "stdout",
          "text": [
            "Requirement already satisfied: kaggle in /usr/local/lib/python3.12/dist-packages (1.7.4.5)\n",
            "Requirement already satisfied: bleach in /usr/local/lib/python3.12/dist-packages (from kaggle) (6.2.0)\n",
            "Requirement already satisfied: certifi>=14.05.14 in /usr/local/lib/python3.12/dist-packages (from kaggle) (2025.8.3)\n",
            "Requirement already satisfied: charset-normalizer in /usr/local/lib/python3.12/dist-packages (from kaggle) (3.4.3)\n",
            "Requirement already satisfied: idna in /usr/local/lib/python3.12/dist-packages (from kaggle) (3.10)\n",
            "Requirement already satisfied: protobuf in /usr/local/lib/python3.12/dist-packages (from kaggle) (5.29.5)\n",
            "Requirement already satisfied: python-dateutil>=2.5.3 in /usr/local/lib/python3.12/dist-packages (from kaggle) (2.9.0.post0)\n",
            "Requirement already satisfied: python-slugify in /usr/local/lib/python3.12/dist-packages (from kaggle) (8.0.4)\n",
            "Requirement already satisfied: requests in /usr/local/lib/python3.12/dist-packages (from kaggle) (2.32.4)\n",
            "Requirement already satisfied: setuptools>=21.0.0 in /usr/local/lib/python3.12/dist-packages (from kaggle) (75.2.0)\n",
            "Requirement already satisfied: six>=1.10 in /usr/local/lib/python3.12/dist-packages (from kaggle) (1.17.0)\n",
            "Requirement already satisfied: text-unidecode in /usr/local/lib/python3.12/dist-packages (from kaggle) (1.3)\n",
            "Requirement already satisfied: tqdm in /usr/local/lib/python3.12/dist-packages (from kaggle) (4.67.1)\n",
            "Requirement already satisfied: urllib3>=1.15.1 in /usr/local/lib/python3.12/dist-packages (from kaggle) (2.5.0)\n",
            "Requirement already satisfied: webencodings in /usr/local/lib/python3.12/dist-packages (from kaggle) (0.5.1)\n"
          ]
        },
        {
          "output_type": "display_data",
          "data": {
            "text/plain": [
              "<IPython.core.display.HTML object>"
            ],
            "text/html": [
              "\n",
              "     <input type=\"file\" id=\"files-d1c4e26a-2e70-4e1d-a4f0-4921ac4750d7\" name=\"files[]\" multiple disabled\n",
              "        style=\"border:none\" />\n",
              "     <output id=\"result-d1c4e26a-2e70-4e1d-a4f0-4921ac4750d7\">\n",
              "      Upload widget is only available when the cell has been executed in the\n",
              "      current browser session. Please rerun this cell to enable.\n",
              "      </output>\n",
              "      <script>// Copyright 2017 Google LLC\n",
              "//\n",
              "// Licensed under the Apache License, Version 2.0 (the \"License\");\n",
              "// you may not use this file except in compliance with the License.\n",
              "// You may obtain a copy of the License at\n",
              "//\n",
              "//      http://www.apache.org/licenses/LICENSE-2.0\n",
              "//\n",
              "// Unless required by applicable law or agreed to in writing, software\n",
              "// distributed under the License is distributed on an \"AS IS\" BASIS,\n",
              "// WITHOUT WARRANTIES OR CONDITIONS OF ANY KIND, either express or implied.\n",
              "// See the License for the specific language governing permissions and\n",
              "// limitations under the License.\n",
              "\n",
              "/**\n",
              " * @fileoverview Helpers for google.colab Python module.\n",
              " */\n",
              "(function(scope) {\n",
              "function span(text, styleAttributes = {}) {\n",
              "  const element = document.createElement('span');\n",
              "  element.textContent = text;\n",
              "  for (const key of Object.keys(styleAttributes)) {\n",
              "    element.style[key] = styleAttributes[key];\n",
              "  }\n",
              "  return element;\n",
              "}\n",
              "\n",
              "// Max number of bytes which will be uploaded at a time.\n",
              "const MAX_PAYLOAD_SIZE = 100 * 1024;\n",
              "\n",
              "function _uploadFiles(inputId, outputId) {\n",
              "  const steps = uploadFilesStep(inputId, outputId);\n",
              "  const outputElement = document.getElementById(outputId);\n",
              "  // Cache steps on the outputElement to make it available for the next call\n",
              "  // to uploadFilesContinue from Python.\n",
              "  outputElement.steps = steps;\n",
              "\n",
              "  return _uploadFilesContinue(outputId);\n",
              "}\n",
              "\n",
              "// This is roughly an async generator (not supported in the browser yet),\n",
              "// where there are multiple asynchronous steps and the Python side is going\n",
              "// to poll for completion of each step.\n",
              "// This uses a Promise to block the python side on completion of each step,\n",
              "// then passes the result of the previous step as the input to the next step.\n",
              "function _uploadFilesContinue(outputId) {\n",
              "  const outputElement = document.getElementById(outputId);\n",
              "  const steps = outputElement.steps;\n",
              "\n",
              "  const next = steps.next(outputElement.lastPromiseValue);\n",
              "  return Promise.resolve(next.value.promise).then((value) => {\n",
              "    // Cache the last promise value to make it available to the next\n",
              "    // step of the generator.\n",
              "    outputElement.lastPromiseValue = value;\n",
              "    return next.value.response;\n",
              "  });\n",
              "}\n",
              "\n",
              "/**\n",
              " * Generator function which is called between each async step of the upload\n",
              " * process.\n",
              " * @param {string} inputId Element ID of the input file picker element.\n",
              " * @param {string} outputId Element ID of the output display.\n",
              " * @return {!Iterable<!Object>} Iterable of next steps.\n",
              " */\n",
              "function* uploadFilesStep(inputId, outputId) {\n",
              "  const inputElement = document.getElementById(inputId);\n",
              "  inputElement.disabled = false;\n",
              "\n",
              "  const outputElement = document.getElementById(outputId);\n",
              "  outputElement.innerHTML = '';\n",
              "\n",
              "  const pickedPromise = new Promise((resolve) => {\n",
              "    inputElement.addEventListener('change', (e) => {\n",
              "      resolve(e.target.files);\n",
              "    });\n",
              "  });\n",
              "\n",
              "  const cancel = document.createElement('button');\n",
              "  inputElement.parentElement.appendChild(cancel);\n",
              "  cancel.textContent = 'Cancel upload';\n",
              "  const cancelPromise = new Promise((resolve) => {\n",
              "    cancel.onclick = () => {\n",
              "      resolve(null);\n",
              "    };\n",
              "  });\n",
              "\n",
              "  // Wait for the user to pick the files.\n",
              "  const files = yield {\n",
              "    promise: Promise.race([pickedPromise, cancelPromise]),\n",
              "    response: {\n",
              "      action: 'starting',\n",
              "    }\n",
              "  };\n",
              "\n",
              "  cancel.remove();\n",
              "\n",
              "  // Disable the input element since further picks are not allowed.\n",
              "  inputElement.disabled = true;\n",
              "\n",
              "  if (!files) {\n",
              "    return {\n",
              "      response: {\n",
              "        action: 'complete',\n",
              "      }\n",
              "    };\n",
              "  }\n",
              "\n",
              "  for (const file of files) {\n",
              "    const li = document.createElement('li');\n",
              "    li.append(span(file.name, {fontWeight: 'bold'}));\n",
              "    li.append(span(\n",
              "        `(${file.type || 'n/a'}) - ${file.size} bytes, ` +\n",
              "        `last modified: ${\n",
              "            file.lastModifiedDate ? file.lastModifiedDate.toLocaleDateString() :\n",
              "                                    'n/a'} - `));\n",
              "    const percent = span('0% done');\n",
              "    li.appendChild(percent);\n",
              "\n",
              "    outputElement.appendChild(li);\n",
              "\n",
              "    const fileDataPromise = new Promise((resolve) => {\n",
              "      const reader = new FileReader();\n",
              "      reader.onload = (e) => {\n",
              "        resolve(e.target.result);\n",
              "      };\n",
              "      reader.readAsArrayBuffer(file);\n",
              "    });\n",
              "    // Wait for the data to be ready.\n",
              "    let fileData = yield {\n",
              "      promise: fileDataPromise,\n",
              "      response: {\n",
              "        action: 'continue',\n",
              "      }\n",
              "    };\n",
              "\n",
              "    // Use a chunked sending to avoid message size limits. See b/62115660.\n",
              "    let position = 0;\n",
              "    do {\n",
              "      const length = Math.min(fileData.byteLength - position, MAX_PAYLOAD_SIZE);\n",
              "      const chunk = new Uint8Array(fileData, position, length);\n",
              "      position += length;\n",
              "\n",
              "      const base64 = btoa(String.fromCharCode.apply(null, chunk));\n",
              "      yield {\n",
              "        response: {\n",
              "          action: 'append',\n",
              "          file: file.name,\n",
              "          data: base64,\n",
              "        },\n",
              "      };\n",
              "\n",
              "      let percentDone = fileData.byteLength === 0 ?\n",
              "          100 :\n",
              "          Math.round((position / fileData.byteLength) * 100);\n",
              "      percent.textContent = `${percentDone}% done`;\n",
              "\n",
              "    } while (position < fileData.byteLength);\n",
              "  }\n",
              "\n",
              "  // All done.\n",
              "  yield {\n",
              "    response: {\n",
              "      action: 'complete',\n",
              "    }\n",
              "  };\n",
              "}\n",
              "\n",
              "scope.google = scope.google || {};\n",
              "scope.google.colab = scope.google.colab || {};\n",
              "scope.google.colab._files = {\n",
              "  _uploadFiles,\n",
              "  _uploadFilesContinue,\n",
              "};\n",
              "})(self);\n",
              "</script> "
            ]
          },
          "metadata": {}
        },
        {
          "output_type": "stream",
          "name": "stdout",
          "text": [
            "Saving kaggle.json to kaggle.json\n",
            "Dataset URL: https://www.kaggle.com/datasets/navoneel/brain-mri-images-for-brain-tumor-detection\n",
            "License(s): copyright-authors\n",
            "Downloading brain-mri-images-for-brain-tumor-detection.zip to /content\n",
            "  0% 0.00/15.1M [00:00<?, ?B/s]\n",
            "100% 15.1M/15.1M [00:00<00:00, 941MB/s]\n"
          ]
        }
      ]
    },
    {
      "cell_type": "code",
      "source": [
        "!unzip brain_tumor_dataset.zip -d brain_mri"
      ],
      "metadata": {
        "colab": {
          "base_uri": "https://localhost:8080/",
          "height": 0
        },
        "collapsed": true,
        "id": "9cR1szceqlKU",
        "outputId": "5b94803f-8128-48bb-d02d-388799b09c56"
      },
      "execution_count": 4,
      "outputs": [
        {
          "output_type": "stream",
          "name": "stdout",
          "text": [
            "Archive:  brain_tumor_dataset.zip\n",
            "  inflating: brain_mri/brain_tumor_dataset/no/1 no.jpeg  \n",
            "  inflating: brain_mri/brain_tumor_dataset/no/10 no.jpg  \n",
            "  inflating: brain_mri/brain_tumor_dataset/no/11 no.jpg  \n",
            "  inflating: brain_mri/brain_tumor_dataset/no/12 no.jpg  \n",
            "  inflating: brain_mri/brain_tumor_dataset/no/13 no.jpg  \n",
            "  inflating: brain_mri/brain_tumor_dataset/no/14 no.jpg  \n",
            "  inflating: brain_mri/brain_tumor_dataset/no/15 no.jpg  \n",
            "  inflating: brain_mri/brain_tumor_dataset/no/17 no.jpg  \n",
            "  inflating: brain_mri/brain_tumor_dataset/no/18 no.jpg  \n",
            "  inflating: brain_mri/brain_tumor_dataset/no/19 no.jpg  \n",
            "  inflating: brain_mri/brain_tumor_dataset/no/2 no.jpeg  \n",
            "  inflating: brain_mri/brain_tumor_dataset/no/20 no.jpg  \n",
            "  inflating: brain_mri/brain_tumor_dataset/no/21 no.jpg  \n",
            "  inflating: brain_mri/brain_tumor_dataset/no/22 no.jpg  \n",
            "  inflating: brain_mri/brain_tumor_dataset/no/23 no.jpg  \n",
            "  inflating: brain_mri/brain_tumor_dataset/no/24 no.jpg  \n",
            "  inflating: brain_mri/brain_tumor_dataset/no/25 no.jpg  \n",
            "  inflating: brain_mri/brain_tumor_dataset/no/26 no.jpg  \n",
            "  inflating: brain_mri/brain_tumor_dataset/no/27 no.jpg  \n",
            "  inflating: brain_mri/brain_tumor_dataset/no/28 no.jpg  \n",
            "  inflating: brain_mri/brain_tumor_dataset/no/29 no.jpg  \n",
            "  inflating: brain_mri/brain_tumor_dataset/no/3 no.jpg  \n",
            "  inflating: brain_mri/brain_tumor_dataset/no/30 no.jpg  \n",
            "  inflating: brain_mri/brain_tumor_dataset/no/31 no.jpg  \n",
            "  inflating: brain_mri/brain_tumor_dataset/no/32 no.jpg  \n",
            "  inflating: brain_mri/brain_tumor_dataset/no/33 no.jpg  \n",
            "  inflating: brain_mri/brain_tumor_dataset/no/34 no.jpg  \n",
            "  inflating: brain_mri/brain_tumor_dataset/no/35 no.jpg  \n",
            "  inflating: brain_mri/brain_tumor_dataset/no/36 no.jpg  \n",
            "  inflating: brain_mri/brain_tumor_dataset/no/37 no.jpg  \n",
            "  inflating: brain_mri/brain_tumor_dataset/no/38 no.jpg  \n",
            "  inflating: brain_mri/brain_tumor_dataset/no/39 no.jpg  \n",
            "  inflating: brain_mri/brain_tumor_dataset/no/4 no.jpg  \n",
            "  inflating: brain_mri/brain_tumor_dataset/no/40 no.jpg  \n",
            "  inflating: brain_mri/brain_tumor_dataset/no/41 no.jpg  \n",
            "  inflating: brain_mri/brain_tumor_dataset/no/42 no.jpg  \n",
            "  inflating: brain_mri/brain_tumor_dataset/no/43 no.jpg  \n",
            "  inflating: brain_mri/brain_tumor_dataset/no/44no.jpg  \n",
            "  inflating: brain_mri/brain_tumor_dataset/no/45 no.jpg  \n",
            "  inflating: brain_mri/brain_tumor_dataset/no/46 no.jpg  \n",
            "  inflating: brain_mri/brain_tumor_dataset/no/47 no.jpg  \n",
            "  inflating: brain_mri/brain_tumor_dataset/no/48 no.jpeg  \n",
            "  inflating: brain_mri/brain_tumor_dataset/no/49 no.jpg  \n",
            "  inflating: brain_mri/brain_tumor_dataset/no/5 no.jpg  \n",
            "  inflating: brain_mri/brain_tumor_dataset/no/50 no.jpg  \n",
            "  inflating: brain_mri/brain_tumor_dataset/no/6 no.jpg  \n",
            "  inflating: brain_mri/brain_tumor_dataset/no/7 no.jpg  \n",
            "  inflating: brain_mri/brain_tumor_dataset/no/8 no.jpg  \n",
            "  inflating: brain_mri/brain_tumor_dataset/no/9 no.jpg  \n",
            "  inflating: brain_mri/brain_tumor_dataset/no/N1.JPG  \n",
            "  inflating: brain_mri/brain_tumor_dataset/no/N11.jpg  \n",
            "  inflating: brain_mri/brain_tumor_dataset/no/N15.jpg  \n",
            "  inflating: brain_mri/brain_tumor_dataset/no/N16.jpg  \n",
            "  inflating: brain_mri/brain_tumor_dataset/no/N17.jpg  \n",
            "  inflating: brain_mri/brain_tumor_dataset/no/N19.JPG  \n",
            "  inflating: brain_mri/brain_tumor_dataset/no/N2.JPG  \n",
            "  inflating: brain_mri/brain_tumor_dataset/no/N20.JPG  \n",
            "  inflating: brain_mri/brain_tumor_dataset/no/N21.jpg  \n",
            "  inflating: brain_mri/brain_tumor_dataset/no/N22.JPG  \n",
            "  inflating: brain_mri/brain_tumor_dataset/no/N26.JPG  \n",
            "  inflating: brain_mri/brain_tumor_dataset/no/N3.jpg  \n",
            "  inflating: brain_mri/brain_tumor_dataset/no/N5.jpg  \n",
            "  inflating: brain_mri/brain_tumor_dataset/no/N6.jpg  \n",
            "  inflating: brain_mri/brain_tumor_dataset/no/No11.jpg  \n",
            "  inflating: brain_mri/brain_tumor_dataset/no/No12.jpg  \n",
            "  inflating: brain_mri/brain_tumor_dataset/no/No13.jpg  \n",
            "  inflating: brain_mri/brain_tumor_dataset/no/No14.jpg  \n",
            "  inflating: brain_mri/brain_tumor_dataset/no/No15.jpg  \n",
            "  inflating: brain_mri/brain_tumor_dataset/no/No16.jpg  \n",
            "  inflating: brain_mri/brain_tumor_dataset/no/No17.jpg  \n",
            "  inflating: brain_mri/brain_tumor_dataset/no/No18.jpg  \n",
            "  inflating: brain_mri/brain_tumor_dataset/no/No19.jpg  \n",
            "  inflating: brain_mri/brain_tumor_dataset/no/No20.jpg  \n",
            "  inflating: brain_mri/brain_tumor_dataset/no/No21.jpg  \n",
            "  inflating: brain_mri/brain_tumor_dataset/no/No22.jpg  \n",
            "  inflating: brain_mri/brain_tumor_dataset/no/no 1.jpg  \n",
            "  inflating: brain_mri/brain_tumor_dataset/no/no 10.jpg  \n",
            "  inflating: brain_mri/brain_tumor_dataset/no/no 100.jpg  \n",
            "  inflating: brain_mri/brain_tumor_dataset/no/no 2.jpg  \n",
            "  inflating: brain_mri/brain_tumor_dataset/no/no 3.jpg  \n",
            "  inflating: brain_mri/brain_tumor_dataset/no/no 4.jpg  \n",
            "  inflating: brain_mri/brain_tumor_dataset/no/no 5.jpeg  \n",
            "  inflating: brain_mri/brain_tumor_dataset/no/no 6.jpg  \n",
            "  inflating: brain_mri/brain_tumor_dataset/no/no 7.jpeg  \n",
            "  inflating: brain_mri/brain_tumor_dataset/no/no 8.jpg  \n",
            "  inflating: brain_mri/brain_tumor_dataset/no/no 89.jpg  \n",
            "  inflating: brain_mri/brain_tumor_dataset/no/no 9.png  \n",
            "  inflating: brain_mri/brain_tumor_dataset/no/no 90.jpg  \n",
            "  inflating: brain_mri/brain_tumor_dataset/no/no 91.jpeg  \n",
            "  inflating: brain_mri/brain_tumor_dataset/no/no 92.jpg  \n",
            "  inflating: brain_mri/brain_tumor_dataset/no/no 923.jpg  \n",
            "  inflating: brain_mri/brain_tumor_dataset/no/no 94.jpg  \n",
            "  inflating: brain_mri/brain_tumor_dataset/no/no 95.jpg  \n",
            "  inflating: brain_mri/brain_tumor_dataset/no/no 96.jpg  \n",
            "  inflating: brain_mri/brain_tumor_dataset/no/no 97.jpg  \n",
            "  inflating: brain_mri/brain_tumor_dataset/no/no 98.jpg  \n",
            "  inflating: brain_mri/brain_tumor_dataset/no/no 99.jpg  \n",
            "  inflating: brain_mri/brain_tumor_dataset/no/no.jpg  \n",
            "  inflating: brain_mri/brain_tumor_dataset/yes/Y1.jpg  \n",
            "  inflating: brain_mri/brain_tumor_dataset/yes/Y10.jpg  \n",
            "  inflating: brain_mri/brain_tumor_dataset/yes/Y100.JPG  \n",
            "  inflating: brain_mri/brain_tumor_dataset/yes/Y101.jpg  \n",
            "  inflating: brain_mri/brain_tumor_dataset/yes/Y102.jpg  \n",
            "  inflating: brain_mri/brain_tumor_dataset/yes/Y103.jpg  \n",
            "  inflating: brain_mri/brain_tumor_dataset/yes/Y104.jpg  \n",
            "  inflating: brain_mri/brain_tumor_dataset/yes/Y105.jpg  \n",
            "  inflating: brain_mri/brain_tumor_dataset/yes/Y106.jpg  \n",
            "  inflating: brain_mri/brain_tumor_dataset/yes/Y107.jpg  \n",
            "  inflating: brain_mri/brain_tumor_dataset/yes/Y108.jpg  \n",
            "  inflating: brain_mri/brain_tumor_dataset/yes/Y109.JPG  \n",
            "  inflating: brain_mri/brain_tumor_dataset/yes/Y11.jpg  \n",
            "  inflating: brain_mri/brain_tumor_dataset/yes/Y111.JPG  \n",
            "  inflating: brain_mri/brain_tumor_dataset/yes/Y112.JPG  \n",
            "  inflating: brain_mri/brain_tumor_dataset/yes/Y113.JPG  \n",
            "  inflating: brain_mri/brain_tumor_dataset/yes/Y114.JPG  \n",
            "  inflating: brain_mri/brain_tumor_dataset/yes/Y115.JPG  \n",
            "  inflating: brain_mri/brain_tumor_dataset/yes/Y116.JPG  \n",
            "  inflating: brain_mri/brain_tumor_dataset/yes/Y117.JPG  \n",
            "  inflating: brain_mri/brain_tumor_dataset/yes/Y12.jpg  \n",
            "  inflating: brain_mri/brain_tumor_dataset/yes/Y120.JPG  \n",
            "  inflating: brain_mri/brain_tumor_dataset/yes/Y13.jpg  \n",
            "  inflating: brain_mri/brain_tumor_dataset/yes/Y14.jpg  \n",
            "  inflating: brain_mri/brain_tumor_dataset/yes/Y146.JPG  \n",
            "  inflating: brain_mri/brain_tumor_dataset/yes/Y147.JPG  \n",
            "  inflating: brain_mri/brain_tumor_dataset/yes/Y148.JPG  \n",
            "  inflating: brain_mri/brain_tumor_dataset/yes/Y15.jpg  \n",
            "  inflating: brain_mri/brain_tumor_dataset/yes/Y153.jpg  \n",
            "  inflating: brain_mri/brain_tumor_dataset/yes/Y154.jpg  \n",
            "  inflating: brain_mri/brain_tumor_dataset/yes/Y155.JPG  \n",
            "  inflating: brain_mri/brain_tumor_dataset/yes/Y156.JPG  \n",
            "  inflating: brain_mri/brain_tumor_dataset/yes/Y157.JPG  \n",
            "  inflating: brain_mri/brain_tumor_dataset/yes/Y158.JPG  \n",
            "  inflating: brain_mri/brain_tumor_dataset/yes/Y159.JPG  \n",
            "  inflating: brain_mri/brain_tumor_dataset/yes/Y16.JPG  \n",
            "  inflating: brain_mri/brain_tumor_dataset/yes/Y160.JPG  \n",
            "  inflating: brain_mri/brain_tumor_dataset/yes/Y161.JPG  \n",
            "  inflating: brain_mri/brain_tumor_dataset/yes/Y162.jpg  \n",
            "  inflating: brain_mri/brain_tumor_dataset/yes/Y163.JPG  \n",
            "  inflating: brain_mri/brain_tumor_dataset/yes/Y164.JPG  \n",
            "  inflating: brain_mri/brain_tumor_dataset/yes/Y165.JPG  \n",
            "  inflating: brain_mri/brain_tumor_dataset/yes/Y166.JPG  \n",
            "  inflating: brain_mri/brain_tumor_dataset/yes/Y167.JPG  \n",
            "  inflating: brain_mri/brain_tumor_dataset/yes/Y168.jpg  \n",
            "  inflating: brain_mri/brain_tumor_dataset/yes/Y169.jpg  \n",
            "  inflating: brain_mri/brain_tumor_dataset/yes/Y17.jpg  \n",
            "  inflating: brain_mri/brain_tumor_dataset/yes/Y170.JPG  \n",
            "  inflating: brain_mri/brain_tumor_dataset/yes/Y18.JPG  \n",
            "  inflating: brain_mri/brain_tumor_dataset/yes/Y180.jpg  \n",
            "  inflating: brain_mri/brain_tumor_dataset/yes/Y181.jpg  \n",
            "  inflating: brain_mri/brain_tumor_dataset/yes/Y182.JPG  \n",
            "  inflating: brain_mri/brain_tumor_dataset/yes/Y183.jpg  \n",
            "  inflating: brain_mri/brain_tumor_dataset/yes/Y184.JPG  \n",
            "  inflating: brain_mri/brain_tumor_dataset/yes/Y185.jpg  \n",
            "  inflating: brain_mri/brain_tumor_dataset/yes/Y186.jpg  \n",
            "  inflating: brain_mri/brain_tumor_dataset/yes/Y187.jpg  \n",
            "  inflating: brain_mri/brain_tumor_dataset/yes/Y188.jpg  \n",
            "  inflating: brain_mri/brain_tumor_dataset/yes/Y19.JPG  \n",
            "  inflating: brain_mri/brain_tumor_dataset/yes/Y192.JPG  \n",
            "  inflating: brain_mri/brain_tumor_dataset/yes/Y193.JPG  \n",
            "  inflating: brain_mri/brain_tumor_dataset/yes/Y194.jpg  \n",
            "  inflating: brain_mri/brain_tumor_dataset/yes/Y195.JPG  \n",
            "  inflating: brain_mri/brain_tumor_dataset/yes/Y2.jpg  \n",
            "  inflating: brain_mri/brain_tumor_dataset/yes/Y20.jpg  \n",
            "  inflating: brain_mri/brain_tumor_dataset/yes/Y21.jpg  \n",
            "  inflating: brain_mri/brain_tumor_dataset/yes/Y22.jpg  \n",
            "  inflating: brain_mri/brain_tumor_dataset/yes/Y23.JPG  \n",
            "  inflating: brain_mri/brain_tumor_dataset/yes/Y24.jpg  \n",
            "  inflating: brain_mri/brain_tumor_dataset/yes/Y242.JPG  \n",
            "  inflating: brain_mri/brain_tumor_dataset/yes/Y243.JPG  \n",
            "  inflating: brain_mri/brain_tumor_dataset/yes/Y244.JPG  \n",
            "  inflating: brain_mri/brain_tumor_dataset/yes/Y245.jpg  \n",
            "  inflating: brain_mri/brain_tumor_dataset/yes/Y246.JPG  \n",
            "  inflating: brain_mri/brain_tumor_dataset/yes/Y247.JPG  \n",
            "  inflating: brain_mri/brain_tumor_dataset/yes/Y248.JPG  \n",
            "  inflating: brain_mri/brain_tumor_dataset/yes/Y249.JPG  \n",
            "  inflating: brain_mri/brain_tumor_dataset/yes/Y25.jpg  \n",
            "  inflating: brain_mri/brain_tumor_dataset/yes/Y250.jpg  \n",
            "  inflating: brain_mri/brain_tumor_dataset/yes/Y251.JPG  \n",
            "  inflating: brain_mri/brain_tumor_dataset/yes/Y252.jpg  \n",
            "  inflating: brain_mri/brain_tumor_dataset/yes/Y253.JPG  \n",
            "  inflating: brain_mri/brain_tumor_dataset/yes/Y254.jpg  \n",
            "  inflating: brain_mri/brain_tumor_dataset/yes/Y255.JPG  \n",
            "  inflating: brain_mri/brain_tumor_dataset/yes/Y256.JPG  \n",
            "  inflating: brain_mri/brain_tumor_dataset/yes/Y257.jpg  \n",
            "  inflating: brain_mri/brain_tumor_dataset/yes/Y258.JPG  \n",
            "  inflating: brain_mri/brain_tumor_dataset/yes/Y259.JPG  \n",
            "  inflating: brain_mri/brain_tumor_dataset/yes/Y26.jpg  \n",
            "  inflating: brain_mri/brain_tumor_dataset/yes/Y27.jpg  \n",
            "  inflating: brain_mri/brain_tumor_dataset/yes/Y28.jpg  \n",
            "  inflating: brain_mri/brain_tumor_dataset/yes/Y29.jpg  \n",
            "  inflating: brain_mri/brain_tumor_dataset/yes/Y3.jpg  \n",
            "  inflating: brain_mri/brain_tumor_dataset/yes/Y30.jpg  \n",
            "  inflating: brain_mri/brain_tumor_dataset/yes/Y31.jpg  \n",
            "  inflating: brain_mri/brain_tumor_dataset/yes/Y32.jpg  \n",
            "  inflating: brain_mri/brain_tumor_dataset/yes/Y33.jpg  \n",
            "  inflating: brain_mri/brain_tumor_dataset/yes/Y34.jpg  \n",
            "  inflating: brain_mri/brain_tumor_dataset/yes/Y35.jpg  \n",
            "  inflating: brain_mri/brain_tumor_dataset/yes/Y36.JPG  \n",
            "  inflating: brain_mri/brain_tumor_dataset/yes/Y37.jpg  \n",
            "  inflating: brain_mri/brain_tumor_dataset/yes/Y38.jpg  \n",
            "  inflating: brain_mri/brain_tumor_dataset/yes/Y39.jpg  \n",
            "  inflating: brain_mri/brain_tumor_dataset/yes/Y4.jpg  \n",
            "  inflating: brain_mri/brain_tumor_dataset/yes/Y40.JPG  \n",
            "  inflating: brain_mri/brain_tumor_dataset/yes/Y41.jpg  \n",
            "  inflating: brain_mri/brain_tumor_dataset/yes/Y42.jpg  \n",
            "  inflating: brain_mri/brain_tumor_dataset/yes/Y44.JPG  \n",
            "  inflating: brain_mri/brain_tumor_dataset/yes/Y45.JPG  \n",
            "  inflating: brain_mri/brain_tumor_dataset/yes/Y46.jpg  \n",
            "  inflating: brain_mri/brain_tumor_dataset/yes/Y47.JPG  \n",
            "  inflating: brain_mri/brain_tumor_dataset/yes/Y49.JPG  \n",
            "  inflating: brain_mri/brain_tumor_dataset/yes/Y50.JPG  \n",
            "  inflating: brain_mri/brain_tumor_dataset/yes/Y51.jpg  \n",
            "  inflating: brain_mri/brain_tumor_dataset/yes/Y52.jpg  \n",
            "  inflating: brain_mri/brain_tumor_dataset/yes/Y53.jpg  \n",
            "  inflating: brain_mri/brain_tumor_dataset/yes/Y54.jpg  \n",
            "  inflating: brain_mri/brain_tumor_dataset/yes/Y55.jpg  \n",
            "  inflating: brain_mri/brain_tumor_dataset/yes/Y56.jpg  \n",
            "  inflating: brain_mri/brain_tumor_dataset/yes/Y58.JPG  \n",
            "  inflating: brain_mri/brain_tumor_dataset/yes/Y59.JPG  \n",
            "  inflating: brain_mri/brain_tumor_dataset/yes/Y6.jpg  \n",
            "  inflating: brain_mri/brain_tumor_dataset/yes/Y60.jpg  \n",
            "  inflating: brain_mri/brain_tumor_dataset/yes/Y61.jpg  \n",
            "  inflating: brain_mri/brain_tumor_dataset/yes/Y62.jpg  \n",
            "  inflating: brain_mri/brain_tumor_dataset/yes/Y65.JPG  \n",
            "  inflating: brain_mri/brain_tumor_dataset/yes/Y66.JPG  \n",
            "  inflating: brain_mri/brain_tumor_dataset/yes/Y67.JPG  \n",
            "  inflating: brain_mri/brain_tumor_dataset/yes/Y69.jpg  \n",
            "  inflating: brain_mri/brain_tumor_dataset/yes/Y7.jpg  \n",
            "  inflating: brain_mri/brain_tumor_dataset/yes/Y70.jpg  \n",
            "  inflating: brain_mri/brain_tumor_dataset/yes/Y71.JPG  \n",
            "  inflating: brain_mri/brain_tumor_dataset/yes/Y73.jpg  \n",
            "  inflating: brain_mri/brain_tumor_dataset/yes/Y74.jpg  \n",
            "  inflating: brain_mri/brain_tumor_dataset/yes/Y75.JPG  \n",
            "  inflating: brain_mri/brain_tumor_dataset/yes/Y76.jpg  \n",
            "  inflating: brain_mri/brain_tumor_dataset/yes/Y77.jpg  \n",
            "  inflating: brain_mri/brain_tumor_dataset/yes/Y78.jpg  \n",
            "  inflating: brain_mri/brain_tumor_dataset/yes/Y79.jpg  \n",
            "  inflating: brain_mri/brain_tumor_dataset/yes/Y8.jpg  \n",
            "  inflating: brain_mri/brain_tumor_dataset/yes/Y81.jpg  \n",
            "  inflating: brain_mri/brain_tumor_dataset/yes/Y82.jpg  \n",
            "  inflating: brain_mri/brain_tumor_dataset/yes/Y85.JPG  \n",
            "  inflating: brain_mri/brain_tumor_dataset/yes/Y86.JPG  \n",
            "  inflating: brain_mri/brain_tumor_dataset/yes/Y89.JPG  \n",
            "  inflating: brain_mri/brain_tumor_dataset/yes/Y9.jpg  \n",
            "  inflating: brain_mri/brain_tumor_dataset/yes/Y90.jpg  \n",
            "  inflating: brain_mri/brain_tumor_dataset/yes/Y91.jpg  \n",
            "  inflating: brain_mri/brain_tumor_dataset/yes/Y92.jpg  \n",
            "  inflating: brain_mri/brain_tumor_dataset/yes/Y92.png  \n",
            "  inflating: brain_mri/brain_tumor_dataset/yes/Y95.jpg  \n",
            "  inflating: brain_mri/brain_tumor_dataset/yes/Y96.jpg  \n",
            "  inflating: brain_mri/brain_tumor_dataset/yes/Y97.JPG  \n",
            "  inflating: brain_mri/brain_tumor_dataset/yes/Y98.JPG  \n",
            "  inflating: brain_mri/brain_tumor_dataset/yes/Y99.JPG  \n",
            "  inflating: brain_mri/no/1 no.jpeg  \n",
            "  inflating: brain_mri/no/10 no.jpg  \n",
            "  inflating: brain_mri/no/11 no.jpg  \n",
            "  inflating: brain_mri/no/12 no.jpg  \n",
            "  inflating: brain_mri/no/13 no.jpg  \n",
            "  inflating: brain_mri/no/14 no.jpg  \n",
            "  inflating: brain_mri/no/15 no.jpg  \n",
            "  inflating: brain_mri/no/17 no.jpg  \n",
            "  inflating: brain_mri/no/18 no.jpg  \n",
            "  inflating: brain_mri/no/19 no.jpg  \n",
            "  inflating: brain_mri/no/2 no.jpeg  \n",
            "  inflating: brain_mri/no/20 no.jpg  \n",
            "  inflating: brain_mri/no/21 no.jpg  \n",
            "  inflating: brain_mri/no/22 no.jpg  \n",
            "  inflating: brain_mri/no/23 no.jpg  \n",
            "  inflating: brain_mri/no/24 no.jpg  \n",
            "  inflating: brain_mri/no/25 no.jpg  \n",
            "  inflating: brain_mri/no/26 no.jpg  \n",
            "  inflating: brain_mri/no/27 no.jpg  \n",
            "  inflating: brain_mri/no/28 no.jpg  \n",
            "  inflating: brain_mri/no/29 no.jpg  \n",
            "  inflating: brain_mri/no/3 no.jpg   \n",
            "  inflating: brain_mri/no/30 no.jpg  \n",
            "  inflating: brain_mri/no/31 no.jpg  \n",
            "  inflating: brain_mri/no/32 no.jpg  \n",
            "  inflating: brain_mri/no/33 no.jpg  \n",
            "  inflating: brain_mri/no/34 no.jpg  \n",
            "  inflating: brain_mri/no/35 no.jpg  \n",
            "  inflating: brain_mri/no/36 no.jpg  \n",
            "  inflating: brain_mri/no/37 no.jpg  \n",
            "  inflating: brain_mri/no/38 no.jpg  \n",
            "  inflating: brain_mri/no/39 no.jpg  \n",
            "  inflating: brain_mri/no/4 no.jpg   \n",
            "  inflating: brain_mri/no/40 no.jpg  \n",
            "  inflating: brain_mri/no/41 no.jpg  \n",
            "  inflating: brain_mri/no/42 no.jpg  \n",
            "  inflating: brain_mri/no/43 no.jpg  \n",
            "  inflating: brain_mri/no/44no.jpg   \n",
            "  inflating: brain_mri/no/45 no.jpg  \n",
            "  inflating: brain_mri/no/46 no.jpg  \n",
            "  inflating: brain_mri/no/47 no.jpg  \n",
            "  inflating: brain_mri/no/48 no.jpeg  \n",
            "  inflating: brain_mri/no/49 no.jpg  \n",
            "  inflating: brain_mri/no/5 no.jpg   \n",
            "  inflating: brain_mri/no/50 no.jpg  \n",
            "  inflating: brain_mri/no/6 no.jpg   \n",
            "  inflating: brain_mri/no/7 no.jpg   \n",
            "  inflating: brain_mri/no/8 no.jpg   \n",
            "  inflating: brain_mri/no/9 no.jpg   \n",
            "  inflating: brain_mri/no/N1.JPG     \n",
            "  inflating: brain_mri/no/N11.jpg    \n",
            "  inflating: brain_mri/no/N15.jpg    \n",
            "  inflating: brain_mri/no/N16.jpg    \n",
            "  inflating: brain_mri/no/N17.jpg    \n",
            "  inflating: brain_mri/no/N19.JPG    \n",
            "  inflating: brain_mri/no/N2.JPG     \n",
            "  inflating: brain_mri/no/N20.JPG    \n",
            "  inflating: brain_mri/no/N21.jpg    \n",
            "  inflating: brain_mri/no/N22.JPG    \n",
            "  inflating: brain_mri/no/N26.JPG    \n",
            "  inflating: brain_mri/no/N3.jpg     \n",
            "  inflating: brain_mri/no/N5.jpg     \n",
            "  inflating: brain_mri/no/N6.jpg     \n",
            "  inflating: brain_mri/no/No11.jpg   \n",
            "  inflating: brain_mri/no/No12.jpg   \n",
            "  inflating: brain_mri/no/No13.jpg   \n",
            "  inflating: brain_mri/no/No14.jpg   \n",
            "  inflating: brain_mri/no/No15.jpg   \n",
            "  inflating: brain_mri/no/No16.jpg   \n",
            "  inflating: brain_mri/no/No17.jpg   \n",
            "  inflating: brain_mri/no/No18.jpg   \n",
            "  inflating: brain_mri/no/No19.jpg   \n",
            "  inflating: brain_mri/no/No20.jpg   \n",
            "  inflating: brain_mri/no/No21.jpg   \n",
            "  inflating: brain_mri/no/No22.jpg   \n",
            "  inflating: brain_mri/no/no 1.jpg   \n",
            "  inflating: brain_mri/no/no 10.jpg  \n",
            "  inflating: brain_mri/no/no 100.jpg  \n",
            "  inflating: brain_mri/no/no 2.jpg   \n",
            "  inflating: brain_mri/no/no 3.jpg   \n",
            "  inflating: brain_mri/no/no 4.jpg   \n",
            "  inflating: brain_mri/no/no 5.jpeg  \n",
            "  inflating: brain_mri/no/no 6.jpg   \n",
            "  inflating: brain_mri/no/no 7.jpeg  \n",
            "  inflating: brain_mri/no/no 8.jpg   \n",
            "  inflating: brain_mri/no/no 89.jpg  \n",
            "  inflating: brain_mri/no/no 9.png   \n",
            "  inflating: brain_mri/no/no 90.jpg  \n",
            "  inflating: brain_mri/no/no 91.jpeg  \n",
            "  inflating: brain_mri/no/no 92.jpg  \n",
            "  inflating: brain_mri/no/no 923.jpg  \n",
            "  inflating: brain_mri/no/no 94.jpg  \n",
            "  inflating: brain_mri/no/no 95.jpg  \n",
            "  inflating: brain_mri/no/no 96.jpg  \n",
            "  inflating: brain_mri/no/no 97.jpg  \n",
            "  inflating: brain_mri/no/no 98.jpg  \n",
            "  inflating: brain_mri/no/no 99.jpg  \n",
            "  inflating: brain_mri/no/no.jpg     \n",
            "  inflating: brain_mri/yes/Y1.jpg    \n",
            "  inflating: brain_mri/yes/Y10.jpg   \n",
            "  inflating: brain_mri/yes/Y100.JPG  \n",
            "  inflating: brain_mri/yes/Y101.jpg  \n",
            "  inflating: brain_mri/yes/Y102.jpg  \n",
            "  inflating: brain_mri/yes/Y103.jpg  \n",
            "  inflating: brain_mri/yes/Y104.jpg  \n",
            "  inflating: brain_mri/yes/Y105.jpg  \n",
            "  inflating: brain_mri/yes/Y106.jpg  \n",
            "  inflating: brain_mri/yes/Y107.jpg  \n",
            "  inflating: brain_mri/yes/Y108.jpg  \n",
            "  inflating: brain_mri/yes/Y109.JPG  \n",
            "  inflating: brain_mri/yes/Y11.jpg   \n",
            "  inflating: brain_mri/yes/Y111.JPG  \n",
            "  inflating: brain_mri/yes/Y112.JPG  \n",
            "  inflating: brain_mri/yes/Y113.JPG  \n",
            "  inflating: brain_mri/yes/Y114.JPG  \n",
            "  inflating: brain_mri/yes/Y115.JPG  \n",
            "  inflating: brain_mri/yes/Y116.JPG  \n",
            "  inflating: brain_mri/yes/Y117.JPG  \n",
            "  inflating: brain_mri/yes/Y12.jpg   \n",
            "  inflating: brain_mri/yes/Y120.JPG  \n",
            "  inflating: brain_mri/yes/Y13.jpg   \n",
            "  inflating: brain_mri/yes/Y14.jpg   \n",
            "  inflating: brain_mri/yes/Y146.JPG  \n",
            "  inflating: brain_mri/yes/Y147.JPG  \n",
            "  inflating: brain_mri/yes/Y148.JPG  \n",
            "  inflating: brain_mri/yes/Y15.jpg   \n",
            "  inflating: brain_mri/yes/Y153.jpg  \n",
            "  inflating: brain_mri/yes/Y154.jpg  \n",
            "  inflating: brain_mri/yes/Y155.JPG  \n",
            "  inflating: brain_mri/yes/Y156.JPG  \n",
            "  inflating: brain_mri/yes/Y157.JPG  \n",
            "  inflating: brain_mri/yes/Y158.JPG  \n",
            "  inflating: brain_mri/yes/Y159.JPG  \n",
            "  inflating: brain_mri/yes/Y16.JPG   \n",
            "  inflating: brain_mri/yes/Y160.JPG  \n",
            "  inflating: brain_mri/yes/Y161.JPG  \n",
            "  inflating: brain_mri/yes/Y162.jpg  \n",
            "  inflating: brain_mri/yes/Y163.JPG  \n",
            "  inflating: brain_mri/yes/Y164.JPG  \n",
            "  inflating: brain_mri/yes/Y165.JPG  \n",
            "  inflating: brain_mri/yes/Y166.JPG  \n",
            "  inflating: brain_mri/yes/Y167.JPG  \n",
            "  inflating: brain_mri/yes/Y168.jpg  \n",
            "  inflating: brain_mri/yes/Y169.jpg  \n",
            "  inflating: brain_mri/yes/Y17.jpg   \n",
            "  inflating: brain_mri/yes/Y170.JPG  \n",
            "  inflating: brain_mri/yes/Y18.JPG   \n",
            "  inflating: brain_mri/yes/Y180.jpg  \n",
            "  inflating: brain_mri/yes/Y181.jpg  \n",
            "  inflating: brain_mri/yes/Y182.JPG  \n",
            "  inflating: brain_mri/yes/Y183.jpg  \n",
            "  inflating: brain_mri/yes/Y184.JPG  \n",
            "  inflating: brain_mri/yes/Y185.jpg  \n",
            "  inflating: brain_mri/yes/Y186.jpg  \n",
            "  inflating: brain_mri/yes/Y187.jpg  \n",
            "  inflating: brain_mri/yes/Y188.jpg  \n",
            "  inflating: brain_mri/yes/Y19.JPG   \n",
            "  inflating: brain_mri/yes/Y192.JPG  \n",
            "  inflating: brain_mri/yes/Y193.JPG  \n",
            "  inflating: brain_mri/yes/Y194.jpg  \n",
            "  inflating: brain_mri/yes/Y195.JPG  \n",
            "  inflating: brain_mri/yes/Y2.jpg    \n",
            "  inflating: brain_mri/yes/Y20.jpg   \n",
            "  inflating: brain_mri/yes/Y21.jpg   \n",
            "  inflating: brain_mri/yes/Y22.jpg   \n",
            "  inflating: brain_mri/yes/Y23.JPG   \n",
            "  inflating: brain_mri/yes/Y24.jpg   \n",
            "  inflating: brain_mri/yes/Y242.JPG  \n",
            "  inflating: brain_mri/yes/Y243.JPG  \n",
            "  inflating: brain_mri/yes/Y244.JPG  \n",
            "  inflating: brain_mri/yes/Y245.jpg  \n",
            "  inflating: brain_mri/yes/Y246.JPG  \n",
            "  inflating: brain_mri/yes/Y247.JPG  \n",
            "  inflating: brain_mri/yes/Y248.JPG  \n",
            "  inflating: brain_mri/yes/Y249.JPG  \n",
            "  inflating: brain_mri/yes/Y25.jpg   \n",
            "  inflating: brain_mri/yes/Y250.jpg  \n",
            "  inflating: brain_mri/yes/Y251.JPG  \n",
            "  inflating: brain_mri/yes/Y252.jpg  \n",
            "  inflating: brain_mri/yes/Y253.JPG  \n",
            "  inflating: brain_mri/yes/Y254.jpg  \n",
            "  inflating: brain_mri/yes/Y255.JPG  \n",
            "  inflating: brain_mri/yes/Y256.JPG  \n",
            "  inflating: brain_mri/yes/Y257.jpg  \n",
            "  inflating: brain_mri/yes/Y258.JPG  \n",
            "  inflating: brain_mri/yes/Y259.JPG  \n",
            "  inflating: brain_mri/yes/Y26.jpg   \n",
            "  inflating: brain_mri/yes/Y27.jpg   \n",
            "  inflating: brain_mri/yes/Y28.jpg   \n",
            "  inflating: brain_mri/yes/Y29.jpg   \n",
            "  inflating: brain_mri/yes/Y3.jpg    \n",
            "  inflating: brain_mri/yes/Y30.jpg   \n",
            "  inflating: brain_mri/yes/Y31.jpg   \n",
            "  inflating: brain_mri/yes/Y32.jpg   \n",
            "  inflating: brain_mri/yes/Y33.jpg   \n",
            "  inflating: brain_mri/yes/Y34.jpg   \n",
            "  inflating: brain_mri/yes/Y35.jpg   \n",
            "  inflating: brain_mri/yes/Y36.JPG   \n",
            "  inflating: brain_mri/yes/Y37.jpg   \n",
            "  inflating: brain_mri/yes/Y38.jpg   \n",
            "  inflating: brain_mri/yes/Y39.jpg   \n",
            "  inflating: brain_mri/yes/Y4.jpg    \n",
            "  inflating: brain_mri/yes/Y40.JPG   \n",
            "  inflating: brain_mri/yes/Y41.jpg   \n",
            "  inflating: brain_mri/yes/Y42.jpg   \n",
            "  inflating: brain_mri/yes/Y44.JPG   \n",
            "  inflating: brain_mri/yes/Y45.JPG   \n",
            "  inflating: brain_mri/yes/Y46.jpg   \n",
            "  inflating: brain_mri/yes/Y47.JPG   \n",
            "  inflating: brain_mri/yes/Y49.JPG   \n",
            "  inflating: brain_mri/yes/Y50.JPG   \n",
            "  inflating: brain_mri/yes/Y51.jpg   \n",
            "  inflating: brain_mri/yes/Y52.jpg   \n",
            "  inflating: brain_mri/yes/Y53.jpg   \n",
            "  inflating: brain_mri/yes/Y54.jpg   \n",
            "  inflating: brain_mri/yes/Y55.jpg   \n",
            "  inflating: brain_mri/yes/Y56.jpg   \n",
            "  inflating: brain_mri/yes/Y58.JPG   \n",
            "  inflating: brain_mri/yes/Y59.JPG   \n",
            "  inflating: brain_mri/yes/Y6.jpg    \n",
            "  inflating: brain_mri/yes/Y60.jpg   \n",
            "  inflating: brain_mri/yes/Y61.jpg   \n",
            "  inflating: brain_mri/yes/Y62.jpg   \n",
            "  inflating: brain_mri/yes/Y65.JPG   \n",
            "  inflating: brain_mri/yes/Y66.JPG   \n",
            "  inflating: brain_mri/yes/Y67.JPG   \n",
            "  inflating: brain_mri/yes/Y69.jpg   \n",
            "  inflating: brain_mri/yes/Y7.jpg    \n",
            "  inflating: brain_mri/yes/Y70.jpg   \n",
            "  inflating: brain_mri/yes/Y71.JPG   \n",
            "  inflating: brain_mri/yes/Y73.jpg   \n",
            "  inflating: brain_mri/yes/Y74.jpg   \n",
            "  inflating: brain_mri/yes/Y75.JPG   \n",
            "  inflating: brain_mri/yes/Y76.jpg   \n",
            "  inflating: brain_mri/yes/Y77.jpg   \n",
            "  inflating: brain_mri/yes/Y78.jpg   \n",
            "  inflating: brain_mri/yes/Y79.jpg   \n",
            "  inflating: brain_mri/yes/Y8.jpg    \n",
            "  inflating: brain_mri/yes/Y81.jpg   \n",
            "  inflating: brain_mri/yes/Y82.jpg   \n",
            "  inflating: brain_mri/yes/Y85.JPG   \n",
            "  inflating: brain_mri/yes/Y86.JPG   \n",
            "  inflating: brain_mri/yes/Y89.JPG   \n",
            "  inflating: brain_mri/yes/Y9.jpg    \n",
            "  inflating: brain_mri/yes/Y90.jpg   \n",
            "  inflating: brain_mri/yes/Y91.jpg   \n",
            "  inflating: brain_mri/yes/Y92.jpg   \n",
            "  inflating: brain_mri/yes/Y92.png   \n",
            "  inflating: brain_mri/yes/Y95.jpg   \n",
            "  inflating: brain_mri/yes/Y96.jpg   \n",
            "  inflating: brain_mri/yes/Y97.JPG   \n",
            "  inflating: brain_mri/yes/Y98.JPG   \n",
            "  inflating: brain_mri/yes/Y99.JPG   \n"
          ]
        }
      ]
    },
    {
      "cell_type": "markdown",
      "source": [
        "# 3. Data Preparation"
      ],
      "metadata": {
        "id": "ZOx8UzqcFO23"
      }
    },
    {
      "cell_type": "code",
      "source": [
        "!pip install split-folders\n",
        "import splitfolders\n",
        "\n",
        "# Input dataset (yes/no folders)\n",
        "input_folder = \"brain_mri/brain_tumor_dataset\"\n",
        "\n",
        "# Output dataset with train/val/test\n",
        "splitfolders.ratio(input_folder, output=\"brain_mri/split_data\",\n",
        "                   seed=42, ratio=(0.7, 0.2, 0.1))\n"
      ],
      "metadata": {
        "colab": {
          "base_uri": "https://localhost:8080/",
          "height": 0
        },
        "id": "xRTwPemHuPur",
        "outputId": "0a0ddcf5-5d0b-4502-fce1-ce83213f2b73"
      },
      "execution_count": 5,
      "outputs": [
        {
          "output_type": "stream",
          "name": "stdout",
          "text": [
            "Collecting split-folders\n",
            "  Downloading split_folders-0.5.1-py3-none-any.whl.metadata (6.2 kB)\n",
            "Downloading split_folders-0.5.1-py3-none-any.whl (8.4 kB)\n",
            "Installing collected packages: split-folders\n",
            "Successfully installed split-folders-0.5.1\n"
          ]
        },
        {
          "output_type": "stream",
          "name": "stderr",
          "text": [
            "Copying files: 253 files [00:00, 4223.11 files/s]\n"
          ]
        }
      ]
    },
    {
      "cell_type": "code",
      "source": [
        "from tensorflow.keras.preprocessing.image import ImageDataGenerator\n",
        "\n",
        "train_dir = \"brain_mri/split_data/train\"\n",
        "val_dir   = \"brain_mri/split_data/val\"\n",
        "test_dir  = \"brain_mri/split_data/test\"\n",
        "\n",
        "datagen = ImageDataGenerator(rescale=1./255)\n",
        "\n",
        "train_data = datagen.flow_from_directory(\n",
        "    train_dir,\n",
        "    target_size=(128, 128),\n",
        "    batch_size=32,\n",
        "    class_mode='binary'\n",
        ")\n",
        "\n",
        "val_data = datagen.flow_from_directory(\n",
        "    val_dir,\n",
        "    target_size=(128, 128),\n",
        "    batch_size=32,\n",
        "    class_mode='binary'\n",
        ")\n",
        "\n",
        "test_data = datagen.flow_from_directory(\n",
        "    test_dir,\n",
        "    target_size=(128, 128),\n",
        "    batch_size=32,\n",
        "    class_mode='binary',\n",
        "    shuffle=False\n",
        ")\n"
      ],
      "metadata": {
        "colab": {
          "base_uri": "https://localhost:8080/",
          "height": 0
        },
        "id": "sEyvjzOkvVYE",
        "outputId": "47dc11dc-9a51-4c48-ede4-b2fd00d12714"
      },
      "execution_count": 6,
      "outputs": [
        {
          "output_type": "stream",
          "name": "stdout",
          "text": [
            "Found 176 images belonging to 2 classes.\n",
            "Found 50 images belonging to 2 classes.\n",
            "Found 27 images belonging to 2 classes.\n"
          ]
        }
      ]
    },
    {
      "cell_type": "markdown",
      "source": [
        "# 4. Designing the architecture"
      ],
      "metadata": {
        "id": "DJ-_-v2nFigX"
      }
    },
    {
      "cell_type": "code",
      "source": [
        "model = tf.keras.models.Sequential([\n",
        "    tf.keras.layers.Conv2D(32, (3,3), activation='relu', input_shape=(128,128,3)),\n",
        "    tf.keras.layers.MaxPooling2D(2,2),\n",
        "\n",
        "    tf.keras.layers.Conv2D(64, (3,3), activation='relu'),\n",
        "    tf.keras.layers.MaxPooling2D(2,2),\n",
        "\n",
        "    tf.keras.layers.Flatten(),\n",
        "    tf.keras.layers.Dense(128, activation='relu'),\n",
        "    tf.keras.layers.Dropout(0.5),\n",
        "    tf.keras.layers.Dense(1, activation='sigmoid')  # binary classification\n",
        "])\n"
      ],
      "metadata": {
        "colab": {
          "base_uri": "https://localhost:8080/",
          "height": 0
        },
        "id": "Dv5UwBh5vwfj",
        "outputId": "a3e2cf08-f79f-4e0b-b331-d03597661515"
      },
      "execution_count": 7,
      "outputs": [
        {
          "output_type": "stream",
          "name": "stderr",
          "text": [
            "/usr/local/lib/python3.12/dist-packages/keras/src/layers/convolutional/base_conv.py:113: UserWarning: Do not pass an `input_shape`/`input_dim` argument to a layer. When using Sequential models, prefer using an `Input(shape)` object as the first layer in the model instead.\n",
            "  super().__init__(activity_regularizer=activity_regularizer, **kwargs)\n"
          ]
        }
      ]
    },
    {
      "cell_type": "markdown",
      "source": [
        "# 5. DNN Report"
      ],
      "metadata": {
        "id": "Rk38taHIGdxV"
      }
    },
    {
      "cell_type": "code",
      "source": [
        "# * Total number of trainable parameters :\n",
        "model.summary()"
      ],
      "metadata": {
        "colab": {
          "base_uri": "https://localhost:8080/",
          "height": 408
        },
        "id": "P_qeuzBWGeWy",
        "outputId": "86a2eec9-702c-4db3-a344-5f8be2d23980"
      },
      "execution_count": 8,
      "outputs": [
        {
          "output_type": "display_data",
          "data": {
            "text/plain": [
              "\u001b[1mModel: \"sequential\"\u001b[0m\n"
            ],
            "text/html": [
              "<pre style=\"white-space:pre;overflow-x:auto;line-height:normal;font-family:Menlo,'DejaVu Sans Mono',consolas,'Courier New',monospace\"><span style=\"font-weight: bold\">Model: \"sequential\"</span>\n",
              "</pre>\n"
            ]
          },
          "metadata": {}
        },
        {
          "output_type": "display_data",
          "data": {
            "text/plain": [
              "┏━━━━━━━━━━━━━━━━━━━━━━━━━━━━━━━━━┳━━━━━━━━━━━━━━━━━━━━━━━━┳━━━━━━━━━━━━━━━┓\n",
              "┃\u001b[1m \u001b[0m\u001b[1mLayer (type)                   \u001b[0m\u001b[1m \u001b[0m┃\u001b[1m \u001b[0m\u001b[1mOutput Shape          \u001b[0m\u001b[1m \u001b[0m┃\u001b[1m \u001b[0m\u001b[1m      Param #\u001b[0m\u001b[1m \u001b[0m┃\n",
              "┡━━━━━━━━━━━━━━━━━━━━━━━━━━━━━━━━━╇━━━━━━━━━━━━━━━━━━━━━━━━╇━━━━━━━━━━━━━━━┩\n",
              "│ conv2d (\u001b[38;5;33mConv2D\u001b[0m)                 │ (\u001b[38;5;45mNone\u001b[0m, \u001b[38;5;34m126\u001b[0m, \u001b[38;5;34m126\u001b[0m, \u001b[38;5;34m32\u001b[0m)   │           \u001b[38;5;34m896\u001b[0m │\n",
              "├─────────────────────────────────┼────────────────────────┼───────────────┤\n",
              "│ max_pooling2d (\u001b[38;5;33mMaxPooling2D\u001b[0m)    │ (\u001b[38;5;45mNone\u001b[0m, \u001b[38;5;34m63\u001b[0m, \u001b[38;5;34m63\u001b[0m, \u001b[38;5;34m32\u001b[0m)     │             \u001b[38;5;34m0\u001b[0m │\n",
              "├─────────────────────────────────┼────────────────────────┼───────────────┤\n",
              "│ conv2d_1 (\u001b[38;5;33mConv2D\u001b[0m)               │ (\u001b[38;5;45mNone\u001b[0m, \u001b[38;5;34m61\u001b[0m, \u001b[38;5;34m61\u001b[0m, \u001b[38;5;34m64\u001b[0m)     │        \u001b[38;5;34m18,496\u001b[0m │\n",
              "├─────────────────────────────────┼────────────────────────┼───────────────┤\n",
              "│ max_pooling2d_1 (\u001b[38;5;33mMaxPooling2D\u001b[0m)  │ (\u001b[38;5;45mNone\u001b[0m, \u001b[38;5;34m30\u001b[0m, \u001b[38;5;34m30\u001b[0m, \u001b[38;5;34m64\u001b[0m)     │             \u001b[38;5;34m0\u001b[0m │\n",
              "├─────────────────────────────────┼────────────────────────┼───────────────┤\n",
              "│ flatten (\u001b[38;5;33mFlatten\u001b[0m)               │ (\u001b[38;5;45mNone\u001b[0m, \u001b[38;5;34m57600\u001b[0m)          │             \u001b[38;5;34m0\u001b[0m │\n",
              "├─────────────────────────────────┼────────────────────────┼───────────────┤\n",
              "│ dense (\u001b[38;5;33mDense\u001b[0m)                   │ (\u001b[38;5;45mNone\u001b[0m, \u001b[38;5;34m128\u001b[0m)            │     \u001b[38;5;34m7,372,928\u001b[0m │\n",
              "├─────────────────────────────────┼────────────────────────┼───────────────┤\n",
              "│ dropout (\u001b[38;5;33mDropout\u001b[0m)               │ (\u001b[38;5;45mNone\u001b[0m, \u001b[38;5;34m128\u001b[0m)            │             \u001b[38;5;34m0\u001b[0m │\n",
              "├─────────────────────────────────┼────────────────────────┼───────────────┤\n",
              "│ dense_1 (\u001b[38;5;33mDense\u001b[0m)                 │ (\u001b[38;5;45mNone\u001b[0m, \u001b[38;5;34m1\u001b[0m)              │           \u001b[38;5;34m129\u001b[0m │\n",
              "└─────────────────────────────────┴────────────────────────┴───────────────┘\n"
            ],
            "text/html": [
              "<pre style=\"white-space:pre;overflow-x:auto;line-height:normal;font-family:Menlo,'DejaVu Sans Mono',consolas,'Courier New',monospace\">┏━━━━━━━━━━━━━━━━━━━━━━━━━━━━━━━━━┳━━━━━━━━━━━━━━━━━━━━━━━━┳━━━━━━━━━━━━━━━┓\n",
              "┃<span style=\"font-weight: bold\"> Layer (type)                    </span>┃<span style=\"font-weight: bold\"> Output Shape           </span>┃<span style=\"font-weight: bold\">       Param # </span>┃\n",
              "┡━━━━━━━━━━━━━━━━━━━━━━━━━━━━━━━━━╇━━━━━━━━━━━━━━━━━━━━━━━━╇━━━━━━━━━━━━━━━┩\n",
              "│ conv2d (<span style=\"color: #0087ff; text-decoration-color: #0087ff\">Conv2D</span>)                 │ (<span style=\"color: #00d7ff; text-decoration-color: #00d7ff\">None</span>, <span style=\"color: #00af00; text-decoration-color: #00af00\">126</span>, <span style=\"color: #00af00; text-decoration-color: #00af00\">126</span>, <span style=\"color: #00af00; text-decoration-color: #00af00\">32</span>)   │           <span style=\"color: #00af00; text-decoration-color: #00af00\">896</span> │\n",
              "├─────────────────────────────────┼────────────────────────┼───────────────┤\n",
              "│ max_pooling2d (<span style=\"color: #0087ff; text-decoration-color: #0087ff\">MaxPooling2D</span>)    │ (<span style=\"color: #00d7ff; text-decoration-color: #00d7ff\">None</span>, <span style=\"color: #00af00; text-decoration-color: #00af00\">63</span>, <span style=\"color: #00af00; text-decoration-color: #00af00\">63</span>, <span style=\"color: #00af00; text-decoration-color: #00af00\">32</span>)     │             <span style=\"color: #00af00; text-decoration-color: #00af00\">0</span> │\n",
              "├─────────────────────────────────┼────────────────────────┼───────────────┤\n",
              "│ conv2d_1 (<span style=\"color: #0087ff; text-decoration-color: #0087ff\">Conv2D</span>)               │ (<span style=\"color: #00d7ff; text-decoration-color: #00d7ff\">None</span>, <span style=\"color: #00af00; text-decoration-color: #00af00\">61</span>, <span style=\"color: #00af00; text-decoration-color: #00af00\">61</span>, <span style=\"color: #00af00; text-decoration-color: #00af00\">64</span>)     │        <span style=\"color: #00af00; text-decoration-color: #00af00\">18,496</span> │\n",
              "├─────────────────────────────────┼────────────────────────┼───────────────┤\n",
              "│ max_pooling2d_1 (<span style=\"color: #0087ff; text-decoration-color: #0087ff\">MaxPooling2D</span>)  │ (<span style=\"color: #00d7ff; text-decoration-color: #00d7ff\">None</span>, <span style=\"color: #00af00; text-decoration-color: #00af00\">30</span>, <span style=\"color: #00af00; text-decoration-color: #00af00\">30</span>, <span style=\"color: #00af00; text-decoration-color: #00af00\">64</span>)     │             <span style=\"color: #00af00; text-decoration-color: #00af00\">0</span> │\n",
              "├─────────────────────────────────┼────────────────────────┼───────────────┤\n",
              "│ flatten (<span style=\"color: #0087ff; text-decoration-color: #0087ff\">Flatten</span>)               │ (<span style=\"color: #00d7ff; text-decoration-color: #00d7ff\">None</span>, <span style=\"color: #00af00; text-decoration-color: #00af00\">57600</span>)          │             <span style=\"color: #00af00; text-decoration-color: #00af00\">0</span> │\n",
              "├─────────────────────────────────┼────────────────────────┼───────────────┤\n",
              "│ dense (<span style=\"color: #0087ff; text-decoration-color: #0087ff\">Dense</span>)                   │ (<span style=\"color: #00d7ff; text-decoration-color: #00d7ff\">None</span>, <span style=\"color: #00af00; text-decoration-color: #00af00\">128</span>)            │     <span style=\"color: #00af00; text-decoration-color: #00af00\">7,372,928</span> │\n",
              "├─────────────────────────────────┼────────────────────────┼───────────────┤\n",
              "│ dropout (<span style=\"color: #0087ff; text-decoration-color: #0087ff\">Dropout</span>)               │ (<span style=\"color: #00d7ff; text-decoration-color: #00d7ff\">None</span>, <span style=\"color: #00af00; text-decoration-color: #00af00\">128</span>)            │             <span style=\"color: #00af00; text-decoration-color: #00af00\">0</span> │\n",
              "├─────────────────────────────────┼────────────────────────┼───────────────┤\n",
              "│ dense_1 (<span style=\"color: #0087ff; text-decoration-color: #0087ff\">Dense</span>)                 │ (<span style=\"color: #00d7ff; text-decoration-color: #00d7ff\">None</span>, <span style=\"color: #00af00; text-decoration-color: #00af00\">1</span>)              │           <span style=\"color: #00af00; text-decoration-color: #00af00\">129</span> │\n",
              "└─────────────────────────────────┴────────────────────────┴───────────────┘\n",
              "</pre>\n"
            ]
          },
          "metadata": {}
        },
        {
          "output_type": "display_data",
          "data": {
            "text/plain": [
              "\u001b[1m Total params: \u001b[0m\u001b[38;5;34m7,392,449\u001b[0m (28.20 MB)\n"
            ],
            "text/html": [
              "<pre style=\"white-space:pre;overflow-x:auto;line-height:normal;font-family:Menlo,'DejaVu Sans Mono',consolas,'Courier New',monospace\"><span style=\"font-weight: bold\"> Total params: </span><span style=\"color: #00af00; text-decoration-color: #00af00\">7,392,449</span> (28.20 MB)\n",
              "</pre>\n"
            ]
          },
          "metadata": {}
        },
        {
          "output_type": "display_data",
          "data": {
            "text/plain": [
              "\u001b[1m Trainable params: \u001b[0m\u001b[38;5;34m7,392,449\u001b[0m (28.20 MB)\n"
            ],
            "text/html": [
              "<pre style=\"white-space:pre;overflow-x:auto;line-height:normal;font-family:Menlo,'DejaVu Sans Mono',consolas,'Courier New',monospace\"><span style=\"font-weight: bold\"> Trainable params: </span><span style=\"color: #00af00; text-decoration-color: #00af00\">7,392,449</span> (28.20 MB)\n",
              "</pre>\n"
            ]
          },
          "metadata": {}
        },
        {
          "output_type": "display_data",
          "data": {
            "text/plain": [
              "\u001b[1m Non-trainable params: \u001b[0m\u001b[38;5;34m0\u001b[0m (0.00 B)\n"
            ],
            "text/html": [
              "<pre style=\"white-space:pre;overflow-x:auto;line-height:normal;font-family:Menlo,'DejaVu Sans Mono',consolas,'Courier New',monospace\"><span style=\"font-weight: bold\"> Non-trainable params: </span><span style=\"color: #00af00; text-decoration-color: #00af00\">0</span> (0.00 B)\n",
              "</pre>\n"
            ]
          },
          "metadata": {}
        }
      ]
    },
    {
      "cell_type": "markdown",
      "source": [
        "# 6. Compiling and Training the model"
      ],
      "metadata": {
        "id": "zxIGfpWLFyFB"
      }
    },
    {
      "cell_type": "code",
      "source": [
        "model.compile(optimizer='adam',\n",
        "              loss='binary_crossentropy',\n",
        "              metrics=['accuracy'])\n"
      ],
      "metadata": {
        "id": "uWEYNTw-v03t"
      },
      "execution_count": 9,
      "outputs": []
    },
    {
      "cell_type": "code",
      "source": [
        "history = model.fit(\n",
        "    train_data,\n",
        "    validation_data=test_data,\n",
        "    epochs=10\n",
        ")\n"
      ],
      "metadata": {
        "colab": {
          "base_uri": "https://localhost:8080/",
          "height": 0
        },
        "id": "m3EHv6Q7v4NE",
        "outputId": "dab7ec57-a6cd-4202-d42e-b0aeda95cd17"
      },
      "execution_count": 10,
      "outputs": [
        {
          "output_type": "stream",
          "name": "stderr",
          "text": [
            "/usr/local/lib/python3.12/dist-packages/keras/src/trainers/data_adapters/py_dataset_adapter.py:121: UserWarning: Your `PyDataset` class should call `super().__init__(**kwargs)` in its constructor. `**kwargs` can include `workers`, `use_multiprocessing`, `max_queue_size`. Do not pass these arguments to `fit()`, as they will be ignored.\n",
            "  self._warn_if_super_not_called()\n"
          ]
        },
        {
          "output_type": "stream",
          "name": "stdout",
          "text": [
            "Epoch 1/10\n",
            "\u001b[1m6/6\u001b[0m \u001b[32m━━━━━━━━━━━━━━━━━━━━\u001b[0m\u001b[37m\u001b[0m \u001b[1m7s\u001b[0m 859ms/step - accuracy: 0.5393 - loss: 1.1457 - val_accuracy: 0.8148 - val_loss: 0.4766\n",
            "Epoch 2/10\n",
            "\u001b[1m6/6\u001b[0m \u001b[32m━━━━━━━━━━━━━━━━━━━━\u001b[0m\u001b[37m\u001b[0m \u001b[1m6s\u001b[0m 1s/step - accuracy: 0.7139 - loss: 0.5649 - val_accuracy: 0.8519 - val_loss: 0.4209\n",
            "Epoch 3/10\n",
            "\u001b[1m6/6\u001b[0m \u001b[32m━━━━━━━━━━━━━━━━━━━━\u001b[0m\u001b[37m\u001b[0m \u001b[1m9s\u001b[0m 796ms/step - accuracy: 0.8301 - loss: 0.4937 - val_accuracy: 0.8519 - val_loss: 0.3570\n",
            "Epoch 4/10\n",
            "\u001b[1m6/6\u001b[0m \u001b[32m━━━━━━━━━━━━━━━━━━━━\u001b[0m\u001b[37m\u001b[0m \u001b[1m6s\u001b[0m 1s/step - accuracy: 0.7888 - loss: 0.4332 - val_accuracy: 0.8519 - val_loss: 0.3300\n",
            "Epoch 5/10\n",
            "\u001b[1m6/6\u001b[0m \u001b[32m━━━━━━━━━━━━━━━━━━━━\u001b[0m\u001b[37m\u001b[0m \u001b[1m6s\u001b[0m 1s/step - accuracy: 0.8390 - loss: 0.3981 - val_accuracy: 0.8519 - val_loss: 0.3239\n",
            "Epoch 6/10\n",
            "\u001b[1m6/6\u001b[0m \u001b[32m━━━━━━━━━━━━━━━━━━━━\u001b[0m\u001b[37m\u001b[0m \u001b[1m6s\u001b[0m 1s/step - accuracy: 0.8934 - loss: 0.2930 - val_accuracy: 0.8519 - val_loss: 0.2995\n",
            "Epoch 7/10\n",
            "\u001b[1m6/6\u001b[0m \u001b[32m━━━━━━━━━━━━━━━━━━━━\u001b[0m\u001b[37m\u001b[0m \u001b[1m9s\u001b[0m 766ms/step - accuracy: 0.9195 - loss: 0.2441 - val_accuracy: 0.9259 - val_loss: 0.3399\n",
            "Epoch 8/10\n",
            "\u001b[1m6/6\u001b[0m \u001b[32m━━━━━━━━━━━━━━━━━━━━\u001b[0m\u001b[37m\u001b[0m \u001b[1m6s\u001b[0m 1s/step - accuracy: 0.9510 - loss: 0.1766 - val_accuracy: 0.8889 - val_loss: 0.2697\n",
            "Epoch 9/10\n",
            "\u001b[1m6/6\u001b[0m \u001b[32m━━━━━━━━━━━━━━━━━━━━\u001b[0m\u001b[37m\u001b[0m \u001b[1m5s\u001b[0m 773ms/step - accuracy: 0.9458 - loss: 0.1548 - val_accuracy: 0.9259 - val_loss: 0.3014\n",
            "Epoch 10/10\n",
            "\u001b[1m6/6\u001b[0m \u001b[32m━━━━━━━━━━━━━━━━━━━━\u001b[0m\u001b[37m\u001b[0m \u001b[1m5s\u001b[0m 862ms/step - accuracy: 0.9753 - loss: 0.1148 - val_accuracy: 0.8889 - val_loss: 0.2978\n"
          ]
        }
      ]
    },
    {
      "cell_type": "markdown",
      "source": [
        "# 7. Test the model"
      ],
      "metadata": {
        "id": "Dt0zKpNQGZEH"
      }
    },
    {
      "cell_type": "code",
      "source": [
        "loss, acc = model.evaluate(test_data)\n",
        "print(f\"Test Loss: {loss*100:.2f}%\")\n",
        "print(f\"Test Accuracy: {acc*100:.2f}%\")\n"
      ],
      "metadata": {
        "colab": {
          "base_uri": "https://localhost:8080/",
          "height": 0
        },
        "id": "3LQmsGbxwMKN",
        "outputId": "6ed8bb45-e641-4ad1-8d42-8cc6004ad711"
      },
      "execution_count": 11,
      "outputs": [
        {
          "output_type": "stream",
          "name": "stdout",
          "text": [
            "\u001b[1m1/1\u001b[0m \u001b[32m━━━━━━━━━━━━━━━━━━━━\u001b[0m\u001b[37m\u001b[0m \u001b[1m1s\u001b[0m 532ms/step - accuracy: 0.8889 - loss: 0.2978\n",
            "Test Loss: 29.78%\n",
            "Test Accuracy: 88.89%\n"
          ]
        }
      ]
    },
    {
      "cell_type": "markdown",
      "source": [
        "# 8. Report the result\n",
        "1. Plot the training and validation accuracy history.\n",
        "2. Plot the training and validation loss history.\n",
        "3. Report the testing accuracy and loss.\n",
        "4. Show Confusion Matrix for testing dataset.\n",
        "5. Report values for preformance study metrics like accuracy, precision, recall, F1 Score."
      ],
      "metadata": {
        "id": "AAUu9ghuGugY"
      }
    },
    {
      "cell_type": "code",
      "source": [
        "##---------Type the code below this line------------------##\n",
        "\n",
        "classes = train_data.class_indices\n",
        "print(\"Target classes:\", classes)\n",
        "\n",
        "# 1. Plot the training and validation accuracy history\n",
        "plt.plot(history.history['accuracy'], label='Train')\n",
        "plt.plot(history.history['val_accuracy'], label='Validation')\n",
        "plt.title('Accuracy')\n",
        "plt.xlabel('Epochs')\n",
        "plt.ylabel('Accuracy')\n",
        "plt.legend()\n",
        "plt.show()\n",
        "\n",
        "# 2. Plot the training and validation loss history\n",
        "plt.plot(history.history['loss'], label='Train')\n",
        "plt.plot(history.history['val_loss'], label='Validation')\n",
        "plt.title('Loss')\n",
        "plt.xlabel('Epochs')\n",
        "plt.ylabel('Loss')\n",
        "plt.legend()\n",
        "plt.show()\n",
        "\n",
        "# 3. Report testing accuracy and loss (already shown above)\n",
        "# 4. Show Confusion Matrix for testing dataset\n",
        "Y_pred = model.predict(test_data)\n",
        "y_pred = np.where(Y_pred > 0.5, 1, 0)\n",
        "y_true = test_data.classes\n",
        "cm = confusion_matrix(y_true, y_pred)\n",
        "\n",
        "plt.figure(figsize=(6,6))\n",
        "sns.heatmap(cm, annot=True, fmt='d', cmap='Blues')\n",
        "plt.xlabel('Predicted')\n",
        "plt.ylabel('Actual')\n",
        "plt.title('Confusion Matrix')\n",
        "plt.show()\n",
        "\n",
        "# 5. Report values for accuracy, precision, recall, F1\n",
        "print(classification_report(y_true, y_pred, target_names=list(classes.keys())))\n"
      ],
      "metadata": {
        "colab": {
          "base_uri": "https://localhost:8080/",
          "height": 1665
        },
        "id": "igdcxxQjG0gw",
        "outputId": "f2a7e77e-b40c-4782-f665-3ded92f3ec8c"
      },
      "execution_count": 15,
      "outputs": [
        {
          "output_type": "stream",
          "name": "stdout",
          "text": [
            "Target classes: {'no': 0, 'yes': 1}\n"
          ]
        },
        {
          "output_type": "display_data",
          "data": {
            "text/plain": [
              "<Figure size 640x480 with 1 Axes>"
            ],
            "image/png": "[encoded data removed]"
          },
          "metadata": {}
        },
        {
          "output_type": "display_data",
          "data": {
            "text/plain": [
              "<Figure size 640x480 with 1 Axes>"
            ],
            "image/png": "[encoded data removed]"
          },
          "metadata": {}
        },
        {
          "output_type": "stream",
          "name": "stdout",
          "text": [
            "\u001b[1m1/1\u001b[0m \u001b[32m━━━━━━━━━━━━━━━━━━━━\u001b[0m\u001b[37m\u001b[0m \u001b[1m0s\u001b[0m 324ms/step\n"
          ]
        },
        {
          "output_type": "display_data",
          "data": {
            "text/plain": [
              "<Figure size 600x600 with 2 Axes>"
            ],
            "image/png": "[encoded data removed]"
          },
          "metadata": {}
        },
        {
          "output_type": "stream",
          "name": "stdout",
          "text": [
            "              precision    recall  f1-score   support\n",
            "\n",
            "          no       0.83      0.91      0.87        11\n",
            "         yes       0.93      0.88      0.90        16\n",
            "\n",
            "    accuracy                           0.89        27\n",
            "   macro avg       0.88      0.89      0.89        27\n",
            "weighted avg       0.89      0.89      0.89        27\n",
            "\n"
          ]
        }
      ]
    },
    {
      "cell_type": "markdown",
      "source": [
        "# 9. Real Life Example"
      ],
      "metadata": {
        "id": "Tgb7lxCIHLfp"
      }
    },
    {
      "cell_type": "code",
      "source": [
        "import numpy as np\n",
        "from tensorflow.keras.preprocessing import image\n",
        "\n",
        "#img_path = \"brain_mri/brain_tumor_dataset/no/10 no.jpg\"  # example image\n",
        "img_path = \"images5.jpg\"  # example image\n",
        "img = image.load_img(img_path, target_size=(128,128))\n",
        "img_array = image.img_to_array(img)/255.0\n",
        "img_array = np.expand_dims(img_array, axis=0)\n",
        "\n",
        "prediction = model.predict(img_array)[0][0]\n",
        "\n",
        "if prediction > 0.5:\n",
        "    print(\"Tumor Detected\")\n",
        "    print(f\"Confidence: {prediction*100:.2f}%\")\n",
        "else:\n",
        "    print(\"No Tumor Detected\")\n",
        "    print(f\"Confidence: {(1-prediction)*100:.2f}%\")\n"
      ],
      "metadata": {
        "colab": {
          "base_uri": "https://localhost:8080/",
          "height": 0
        },
        "id": "jP-QevcuwRgk",
        "outputId": "a96aa233-1156-49c3-a527-fefe8adeb9c7"
      },
      "execution_count": 21,
      "outputs": [
        {
          "output_type": "stream",
          "name": "stdout",
          "text": [
            "\u001b[1m1/1\u001b[0m \u001b[32m━━━━━━━━━━━━━━━━━━━━\u001b[0m\u001b[37m\u001b[0m \u001b[1m0s\u001b[0m 62ms/step\n",
            "Tumor Detected\n",
            "Confidence: 60.23%\n"
          ]
        }
      ]
    }
  ]
}